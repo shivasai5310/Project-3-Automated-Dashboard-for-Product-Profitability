{
 "cells": [
  {
   "cell_type": "code",
   "execution_count": 1,
   "id": "514450d3",
   "metadata": {
    "_cell_guid": "b1076dfc-b9ad-4769-8c92-a6c4dae69d19",
    "_uuid": "8f2839f25d086af736a60e9eeb907d3b93b6e0e5",
    "execution": {
     "iopub.execute_input": "2023-11-06T13:47:45.580589Z",
     "iopub.status.busy": "2023-11-06T13:47:45.579707Z",
     "iopub.status.idle": "2023-11-06T13:47:47.781830Z",
     "shell.execute_reply": "2023-11-06T13:47:47.780547Z"
    },
    "papermill": {
     "duration": 2.217119,
     "end_time": "2023-11-06T13:47:47.784542",
     "exception": false,
     "start_time": "2023-11-06T13:47:45.567423",
     "status": "completed"
    },
    "tags": []
   },
   "outputs": [
    {
     "name": "stdout",
     "output_type": "stream",
     "text": [
      "/kaggle/input/supermarket-sales-data/annex1.csv\n",
      "/kaggle/input/supermarket-sales-data/annex3.csv\n",
      "/kaggle/input/supermarket-sales-data/annex2.csv\n",
      "/kaggle/input/supermarket-sales-data/annex4.csv\n"
     ]
    }
   ],
   "source": [
    "# This Python 3 environment comes with many helpful analytics libraries installed\n",
    "# It is defined by the kaggle/python Docker image: https://github.com/kaggle/docker-python\n",
    "# For example, here's several helpful packages to load\n",
    "\n",
    "import numpy as np # linear algebra\n",
    "import pandas as pd # data processing, CSV file I/O (e.g. pd.read_csv)\n",
    "import matplotlib.pyplot as plt  # Data visualization library\n",
    "import seaborn as sns  # Data visualization library for creating informative and attractive statistical graphics\n",
    "\n",
    "# Input data files are available in the read-only \"../input/\" directory\n",
    "# For example, running this (by clicking run or pressing Shift+Enter) will list all files under the input directory\n",
    "\n",
    "import os\n",
    "for dirname, _, filenames in os.walk('/kaggle/input'):\n",
    "    for filename in filenames:\n",
    "        print(os.path.join(dirname, filename))\n",
    "\n",
    "# You can write up to 20GB to the current directory (/kaggle/working/) that gets preserved as output when you create a version using \"Save & Run All\" \n",
    "# You can also write temporary files to /kaggle/temp/, but they won't be saved outside of the current session"
   ]
  },
  {
   "cell_type": "markdown",
   "id": "f5337103",
   "metadata": {
    "papermill": {
     "duration": 0.007807,
     "end_time": "2023-11-06T13:47:47.800514",
     "exception": false,
     "start_time": "2023-11-06T13:47:47.792707",
     "status": "completed"
    },
    "tags": []
   },
   "source": [
    "# Project Summary\n",
    "\n",
    "Welcome to the Sectional Project derived from the main KaggleX Mentorship Final Project Report, titled [\"Simplifying Data Science: A Comprehensive Retail Business EDA Project Using a Chinese Supermarket Sales Dataset.\"](https://www.kaggle.com/code/reaganoc/eda-supermarket-sales-datasets-using-sqlalchemy)\n",
    "\n",
    "In this comprehensive project, I have deconstructed the primary project into six distinct EDA sections, each finely tuned to focus on a specific aspect of exploratory data analysis. The rationale behind this approach is to improve accessibility, allowing you, the reader, to delve into the areas that intrigue you the most. While the complete project remains available for those who prefer to explore it in a holistic environment, these individual sections offer a more specialized perspective on different facets of the data analysis project.\n",
    "\n",
    "My project goes beyond the traditional scope of conducting an EDA, which is a standard process for experienced Data Analysts. The central idea here is to illustrate a comprehensive understanding of the process, specifically tailored to individuals with limited programming skills. Within these sections, you will discover a wealth of information, insights, and invaluable learning experiences. Each section is designed to stand independently while contributing to the overarching goal of demystifying data science.\n",
    "\n",
    "Additionally, this project draws learnings from the activities within each section to identify activities that are iterable for any retail business. This contribution aims to develop a comprehensive strategic approach to conducting an EDA on Retail Businesses.\n",
    "\n",
    "Whether you are a non-technical professional, a seasoned data analyst, a business development expert, or simply someone with a passion for data science, I have endeavored to dissect the process and activities to provide written summaries of key points, thought processes, rationale, and the necessity for each activity. This ensures that, regardless of your background, you will find valuable insights and inspiration throughout these pages.\n",
    "\n",
    "The primary objective of this project is to bridge the knowledge gap for individuals with limited programming skills, offering step-by-step explanations and strategic insights into the realm of Exploratory Data Analysis.\n",
    "\n",
    "# The sections are structured as follows:\n",
    "\n",
    "<details>\n",
    "    <summary>Section 1: Retail Business EDA - Inspect, Prepare, Process Data</summary>\n",
    "  \n",
    "Section 1, titled \"Data Preparation and Processing,\" lays the essential foundation for meaningful data analysis. In this phase, the project embarks on a comprehensive journey to refine, organize, and format the raw data, making it conducive to deriving valuable insights and conducting in-depth analysis. \n",
    " \n",
    "The section focuses on data inspection, understanding data types, standardizing column names, cleaning data types and formatting dates, identifying patterns and anomalies, and iterative data inspection. It aims to enhance data quality, consistency, and data integrity while maintaining a clear record of the process. \n",
    " \n",
    "The strategic approach employed in this section ensures that the dataset is not only processed but also refined, organized, and optimized for insightful analysis, setting the stage for robust and data-driven decision-making.</details>\n",
    "\n",
    "[Click here to go to Section 1 Project Notebook](https://www.kaggle.com/code/reaganoc/retail-business-eda-inspect-prepare-process-data)\n",
    "\n",
    "<details>\n",
    "  <summary>Section 2: Retail Business EDA using SQL: Item Category Data (Current Notebook)</summary>\n",
    "  \n",
    "Section 2, titled \"Exploring the Category Dataset - Unveiling Insights through EDA Queries,\" provides a structured and insightful approach to analyzing the \"Category Dataset.\" \n",
    "The section highlights the importance of understanding the dataset's structure and how it can inform decisions related to inventory management, marketing strategies, and category-specific analyses. The presented queries aim to uncover key insights, and each query has a specific objective and significance. \n",
    "The strategic approach employed in this section empowers the reader to systematically explore the \"Category Dataset\" and make data-informed decisions.</details>\n",
    "\n",
    "[Click here to go to Section 2 Project Notebook](https://www.kaggle.com/code/reaganoc/retail-business-eda-using-sql-item-category-data)\n",
    "\n",
    "<details>\n",
    "  <summary>Section 3: Retail Business EDA using SQL: Loss Rate Percentage Data </summary>\n",
    "\n",
    "Section 3 offers a comprehensive exploration of the \"Loss Rate Percentage\" dataset through a series of exploratory data analysis (EDA) queries. \n",
    "\n",
    "The primary aim of this section is to provide insights into loss rates for items, offering stakeholders the necessary information to make informed decisions related to loss rate management and mitigation strategies. \n",
    "\n",
    "The queries within this section are structured to achieve specific objectives, such as calculating the average loss rate, identifying items with extreme loss rates, assessing the variability in loss rates, and categorizing items within one standard deviation of the average. \n",
    "\n",
    "This strategic approach to EDA empowers stakeholders to systematically examine the \"Loss Rate Percentage\" dataset and make informed decisions for loss rate management and mitigation strategies.</details>\n",
    "\n",
    "[Click here to go to Section 3 Project Notebook](https://www.kaggle.com/code/reaganoc/retail-business-eda-using-sql-loss-rate-data)\n",
    "\n",
    "<details>\n",
    "  <summary>Section 4: Retail Business EDA using SQL: Wholesale Data </summary>\n",
    "  \n",
    "Section 4 presents a comprehensive exploratory data analysis (EDA) of the \"Wholesale Dataset\" (veg_whsle_df), providing stakeholders with valuable insights to facilitate data-driven decision-making regarding wholesale transactions, pricing strategies, and inventory management. \n",
    "The section unfolds with a strategic approach, consisting of a series of queries designed to extract key insights from the dataset. \n",
    "The activities in this section focus on gaining an initial data overview, analyzing wholesale transaction data, exploring pricing aspects, identifying profitable dates, and assessing the dataset's temporal scope. \n",
    "This strategic approach empowers stakeholders to systematically explore the \"Wholesale Dataset\" and make informed decisions regarding wholesale transactions, pricing strategies, and inventory management.</details>\n",
    "\n",
    "[Click here to go to Section 4 Project Notebook](https://www.kaggle.com/code/reaganoc/retail-business-eda-using-sql-wholesale-data)\n",
    "\n",
    "<details>\n",
    "  <summary>Section 5: Retail Business EDA using SQL: Transactions Data </summary>\n",
    "\n",
    "Section 5 conducts an advanced exploratory data analysis (EDA) of the 'veg_txn_df' transaction dataset. This EDA comprises a series of well-thought-out queries, each aimed at extracting valuable insights from the data. \n",
    "\n",
    "The queries cover a wide range of aspects, from understanding the dataset's structure and identifying top-selling items to analyzing sales trends, pricing, discounts, and temporal variations. \n",
    "\n",
    "The approach is meticulously organized into ten key activities, providing a structured framework for systematically exploring the retail transaction data. \n",
    "\n",
    "This section serves as a comprehensive guide for data practitioners looking to make data-informed decisions in various aspects of the retail business, including category management, pricing strategies, profitability analysis, quality control, and inventory management.</details>\n",
    "\n",
    "[Click here to go to Section 5 Project Notebook](https://www.kaggle.com/code/reaganoc/retail-business-eda-using-sql-transactions-data)\n",
    "\n",
    "<details>\n",
    "  <summary>Section 6: Retail Business EDA: SQL Joins - 4 Sales Datasets </summary>\n",
    "\n",
    "Section 6 takes an advanced exploratory data analysis (EDA) approach as data from multiple tables are combined through SQL joins to provide comprehensive insights. The analysis focuses on combining the 'veg_txn_df' (transaction data) with 'veg_cat' (item category data) to create a foundational dataset for further exploration. \n",
    "\n",
    "The section delves into item categories, quantifies non-negative quantities sold, computes summary statistics for quantity sold, total price sold, and unit selling prices, and offers valuable insights into profit margins for individual items and categories. This deeper analysis allows for a better understanding of category performance, pricing strategies, and profitability. \n",
    "\n",
    "The strategic approach presented in this section equips data practitioners with the tools to systematically explore retail datasets, providing structured frameworks for informed decision-making in areas like category management, pricing, profitability analysis, and quality control.</details>\n",
    "\n",
    "[Click here to go to Section 6 Project Notebook](https://www.kaggle.com/code/reaganoc/retail-business-eda-sql-joins-4-sales-dataset)\n",
    "\n",
    "I encourage you to explore these sections in an order that best aligns with your interests, needs, and level of expertise. I hope that the project inspires and equips you with the knowledge and enthusiasm to propel your journey in the world of data analytics and international development. \n",
    "\n",
    "Thank you for embarking on this data-driven adventure with me. I wish you a rewarding and insightful journey through the sectional project.\n",
    "\n",
    "**Reagan R. Ocan**<br>\n",
    "**Email:** ocanronald@gmail.com<br>\n",
    "**LinkedIn:** [https://linkedin.com/in/reagan-r-ocan/](https://linkedin.com/in/reagan-r-ocan/)\n",
    "\n",
    "<details>\n",
    "  <summary>About the Author</summary>\n",
    "  \n",
    "Reagan R. Ocan:\n",
    "| Data Analyst | Development Management | 2023 KaggleX Mentee |\n",
    "\n",
    "Education: \n",
    "- MSc. in Development Management, London School of Economics (LSE) - UK (2015/16)\n",
    "- Bachelor of Development Studies, Makerere University, Uganda\n",
    " \n",
    "Experience: \n",
    "- 15+ years in Research, Monitoring, Evaluation, Learning, and program design and management.\n",
    "- Published Author: Academic Research Paper\n",
    "    \n",
    "Core Skills:\n",
    "- Expertise in International Development Research and Programming, Data-driven Development Management, Insights, and Innovations.\n",
    "- Proficient in IT Tools and Programming Languages: SQL, R, Python, PowerBI, Spreadsheets, Tableau, Kaggle, BigQuery, Google Cloud Platform, and Database Structures and Management.\n",
    "\n",
    "Professional Interests:\n",
    "- Passionate about identifying structural gaps in current International Development approaches, theories, and concepts through data analytics.\n",
    "- Aims to provide data-driven insights that reveal development complexities and encourage unconventional perspectives for more socially impactful and sustainable development.\n",
    "\n",
    "Career Goals:\n",
    "Proactively champion data accessibility among marginalized communities, targeting the bottom 90%.\n",
    "    \n",
    "</details>"
   ]
  },
  {
   "cell_type": "code",
   "execution_count": 2,
   "id": "ce6e9931",
   "metadata": {
    "execution": {
     "iopub.execute_input": "2023-11-06T13:47:47.818482Z",
     "iopub.status.busy": "2023-11-06T13:47:47.817960Z",
     "iopub.status.idle": "2023-11-06T13:47:50.051710Z",
     "shell.execute_reply": "2023-11-06T13:47:50.050495Z"
    },
    "papermill": {
     "duration": 2.246308,
     "end_time": "2023-11-06T13:47:50.054735",
     "exception": false,
     "start_time": "2023-11-06T13:47:47.808427",
     "status": "completed"
    },
    "tags": []
   },
   "outputs": [],
   "source": [
    "# Query Cell: Data Import from Multiple Files\n",
    "\n",
    "# Summary:\n",
    "# In this query cell, four datasets—'veg_category_df,' 'veg_txn_df,' 'veg_whsle_df,' and 'loss_rate_df'—are imported from separate CSV files. \n",
    "# These datasets contain information related to supermarket sales and associated data, which will be used for further analysis and exploratory data analysis (EDA) tasks. \n",
    "# Importing these datasets is the initial step in preparing the data for analysis, and they will be explored, cleaned, and examined in subsequent steps to extract insights and make data-driven decisions.\n",
    "\n",
    "veg_category_df = pd.read_csv(r'/kaggle/input/supermarket-sales-data/annex1.csv')\n",
    "veg_txn_df = pd.read_csv(r'/kaggle/input/supermarket-sales-data/annex2.csv')\n",
    "veg_whsle_df = pd.read_csv(r'/kaggle/input/supermarket-sales-data/annex3.csv')\n",
    "loss_rate_df = pd.read_csv(r'/kaggle/input/supermarket-sales-data/annex4.csv')"
   ]
  },
  {
   "cell_type": "markdown",
   "id": "05aeb3db",
   "metadata": {
    "papermill": {
     "duration": 0.00783,
     "end_time": "2023-11-06T13:47:50.070895",
     "exception": false,
     "start_time": "2023-11-06T13:47:50.063065",
     "status": "completed"
    },
    "tags": []
   },
   "source": [
    "# Overview of Data Inspection, Preparation, and Processing\n",
    "We have to start by inspecting and processing our data to facilitate a smooth EDA. Since I have already gone through this process in Section 1, I will keep this data processing section short and sweet. If you are interested in the details of the thought process behind the data processing section, [please refer to section 1 of the project.](https://www.kaggle.com/code/reaganoc/retail-business-eda-inspect-prepare-process-data)\n",
    "\n",
    "To group the data processing queries, I have put all of them in one cell with very little comments, so you can skip over to the main project if you have already viewed the project in section 1:"
   ]
  },
  {
   "cell_type": "code",
   "execution_count": 3,
   "id": "4b510768",
   "metadata": {
    "execution": {
     "iopub.execute_input": "2023-11-06T13:47:50.089288Z",
     "iopub.status.busy": "2023-11-06T13:47:50.088846Z",
     "iopub.status.idle": "2023-11-06T13:47:50.117227Z",
     "shell.execute_reply": "2023-11-06T13:47:50.116195Z"
    },
    "papermill": {
     "duration": 0.040808,
     "end_time": "2023-11-06T13:47:50.119839",
     "exception": false,
     "start_time": "2023-11-06T13:47:50.079031",
     "status": "completed"
    },
    "tags": []
   },
   "outputs": [
    {
     "data": {
      "text/html": [
       "<div>\n",
       "<style scoped>\n",
       "    .dataframe tbody tr th:only-of-type {\n",
       "        vertical-align: middle;\n",
       "    }\n",
       "\n",
       "    .dataframe tbody tr th {\n",
       "        vertical-align: top;\n",
       "    }\n",
       "\n",
       "    .dataframe thead th {\n",
       "        text-align: right;\n",
       "    }\n",
       "</style>\n",
       "<table border=\"1\" class=\"dataframe\">\n",
       "  <thead>\n",
       "    <tr style=\"text-align: right;\">\n",
       "      <th></th>\n",
       "      <th>item_code</th>\n",
       "      <th>item_name</th>\n",
       "      <th>category_code</th>\n",
       "      <th>category_name</th>\n",
       "    </tr>\n",
       "  </thead>\n",
       "  <tbody>\n",
       "    <tr>\n",
       "      <th>0</th>\n",
       "      <td>102900005115168</td>\n",
       "      <td>Niushou Shengcai</td>\n",
       "      <td>1011010101</td>\n",
       "      <td>Flower/Leaf Vegetables</td>\n",
       "    </tr>\n",
       "    <tr>\n",
       "      <th>1</th>\n",
       "      <td>102900005115199</td>\n",
       "      <td>Sichuan Red Cedar</td>\n",
       "      <td>1011010101</td>\n",
       "      <td>Flower/Leaf Vegetables</td>\n",
       "    </tr>\n",
       "    <tr>\n",
       "      <th>2</th>\n",
       "      <td>102900005115625</td>\n",
       "      <td>Local Xiaomao Cabbage</td>\n",
       "      <td>1011010101</td>\n",
       "      <td>Flower/Leaf Vegetables</td>\n",
       "    </tr>\n",
       "    <tr>\n",
       "      <th>3</th>\n",
       "      <td>102900005115748</td>\n",
       "      <td>White Caitai</td>\n",
       "      <td>1011010101</td>\n",
       "      <td>Flower/Leaf Vegetables</td>\n",
       "    </tr>\n",
       "    <tr>\n",
       "      <th>4</th>\n",
       "      <td>102900005115762</td>\n",
       "      <td>Amaranth</td>\n",
       "      <td>1011010101</td>\n",
       "      <td>Flower/Leaf Vegetables</td>\n",
       "    </tr>\n",
       "  </tbody>\n",
       "</table>\n",
       "</div>"
      ],
      "text/plain": [
       "         item_code              item_name  category_code  \\\n",
       "0  102900005115168       Niushou Shengcai     1011010101   \n",
       "1  102900005115199      Sichuan Red Cedar     1011010101   \n",
       "2  102900005115625  Local Xiaomao Cabbage     1011010101   \n",
       "3  102900005115748           White Caitai     1011010101   \n",
       "4  102900005115762               Amaranth     1011010101   \n",
       "\n",
       "            category_name  \n",
       "0  Flower/Leaf Vegetables  \n",
       "1  Flower/Leaf Vegetables  \n",
       "2  Flower/Leaf Vegetables  \n",
       "3  Flower/Leaf Vegetables  \n",
       "4  Flower/Leaf Vegetables  "
      ]
     },
     "execution_count": 3,
     "metadata": {},
     "output_type": "execute_result"
    }
   ],
   "source": [
    "# Section 2: Data Inspection, Preparation, and Processing\n",
    "# Key Section Activities\n",
    "\n",
    "# Activity 1: Inspect the first few rows of a dataframe called `veg_category_df` to gain an overview of its columns and values.\n",
    "veg_category_df.head()\n",
    "\n",
    "# Activity 2: Conduct an Exploratory Data Analysis (EDA) on a dataframe to examine the data types and column names. \n",
    "veg_category_df.dtypes\n",
    "\n",
    "# Activity 3: rename the columns in place\n",
    "new_column_names = ['item_code', 'item_name', 'category_code', 'category_name']\n",
    "veg_category_df.rename(columns=dict(zip(veg_category_df.columns, new_column_names)), inplace=True)\n",
    "\n",
    "# Activity 4: Check dataset columns and values to gain overview\n",
    "veg_category_df.head()"
   ]
  },
  {
   "cell_type": "markdown",
   "id": "8536bb42",
   "metadata": {
    "papermill": {
     "duration": 0.007848,
     "end_time": "2023-11-06T13:47:50.135845",
     "exception": false,
     "start_time": "2023-11-06T13:47:50.127997",
     "status": "completed"
    },
    "tags": []
   },
   "source": [
    "# Notebook Overview\n",
    "## Exploring the Category Dataset - Unveiling Insights through EDA Queries\n",
    "**NB: This project is Section 2 of a 6 Section project.** [Please refer to the project summary above for details on the complete project](#Project-Summary)\n",
    "\n",
    "## Introduction\n",
    "\n",
    "In this section, we embark on a journey to unravel the secrets hidden within the \"Category Dataset.\" Through a series of Exploratory Data Analysis (EDA) queries, we aim to shed light on the intricacies of this dataset, unlocking its potential for decision-making in areas such as inventory management, marketing strategies, and category-specific analyses.\n",
    "\n",
    "Before we dive into the queries, it's essential to recognize the significance of EDA. Exploratory Data Analysis is not just about crunching numbers; it's about unraveling stories and insights hidden within the data. The \"Category Dataset\" is more than just rows and columns; it holds the key to understanding the trends, patterns, and relationships that can shape our strategic decisions.\n",
    "\n",
    "## The Power of Queries\n",
    "\n",
    "Each query we present in this section is like a magnifying glass, focusing on specific aspects of the dataset. Think of them as our investigative tools, enabling us to unveil insights that may remain hidden in the raw data. These queries serve as gateways to better comprehending the dataset's structure and composition.\n",
    "\n",
    "## Inventory Management\n",
    "\n",
    "Understanding the composition of the category dataset is vital for efficient inventory management. It allows us to determine which categories have high or low stock levels, identify fast-moving products, and plan for restocking accordingly. By leveraging EDA queries, we can ensure that our inventory is optimized to meet demand while minimizing overstock or stockouts.\n",
    "\n",
    "## Marketing Strategies\n",
    "\n",
    "In the world of marketing, knowledge is power. EDA queries help us understand customer preferences, buying behavior, and the performance of different product categories. Armed with this knowledge, we can tailor marketing campaigns to target specific customer segments, improve product recommendations, and ultimately drive sales and customer engagement.\n",
    "\n",
    "## Category-Specific Analyses\n",
    "\n",
    "Each category within the dataset has its unique characteristics, and EDA queries allow us to explore these distinctions. Whether it's pricing trends, customer reviews, or product attributes, a category-specific analysis can help us fine-tune our strategies and offer a personalized experience to customers within each category.\n"
   ]
  },
  {
   "cell_type": "code",
   "execution_count": 4,
   "id": "2b4b7790",
   "metadata": {
    "execution": {
     "iopub.execute_input": "2023-11-06T13:47:50.153904Z",
     "iopub.status.busy": "2023-11-06T13:47:50.153497Z",
     "iopub.status.idle": "2023-11-06T13:47:50.923679Z",
     "shell.execute_reply": "2023-11-06T13:47:50.922592Z"
    },
    "papermill": {
     "duration": 0.781993,
     "end_time": "2023-11-06T13:47:50.926023",
     "exception": false,
     "start_time": "2023-11-06T13:47:50.144030",
     "status": "completed"
    },
    "tags": []
   },
   "outputs": [
    {
     "data": {
      "text/plain": [
       "251"
      ]
     },
     "execution_count": 4,
     "metadata": {},
     "output_type": "execute_result"
    }
   ],
   "source": [
    "# Database Integration for Data Storage\n",
    "# In this phase, we incorporate the data from various DataFrames into a SQLite database using SQLAlchemy for effective data management and retrieval.\n",
    "\n",
    "# Import SQLAlchemy and Create a SQLite Engine\n",
    "# import sqlalchemy and create a sqlite engine\n",
    "from sqlalchemy import create_engine\n",
    "from sqlalchemy import text\n",
    "engine = create_engine('sqlite://', echo=False)\n",
    "con=engine.connect()\n",
    "\n",
    "# Store DataFrames in SQLite Tables\n",
    "veg_category_df.to_sql(\"veg_cat\", con=engine)"
   ]
  },
  {
   "cell_type": "markdown",
   "id": "e3a4ec12",
   "metadata": {
    "papermill": {
     "duration": 0.008209,
     "end_time": "2023-11-06T13:47:50.942867",
     "exception": false,
     "start_time": "2023-11-06T13:47:50.934658",
     "status": "completed"
    },
    "tags": []
   },
   "source": [
    "# Query 1: Inspect the initial rows and columns of 'veg_cat' dataframe and gain an overview of the dataset structure.\n",
    "Before conducting an in-depth exploratory data analysis (EDA) on the 'veg_cat' table, it's beneficial to Query the entire dataframe to inspect the initial rows and columns. This initial query aids in gaining an overview of the dataset's structure and serves as a foundational step in developing an analytical roadmap for the specific dataframe.\n"
   ]
  },
  {
   "cell_type": "code",
   "execution_count": 5,
   "id": "6bd6fbda",
   "metadata": {
    "execution": {
     "iopub.execute_input": "2023-11-06T13:47:50.961307Z",
     "iopub.status.busy": "2023-11-06T13:47:50.960925Z",
     "iopub.status.idle": "2023-11-06T13:47:50.977379Z",
     "shell.execute_reply": "2023-11-06T13:47:50.976147Z"
    },
    "papermill": {
     "duration": 0.028756,
     "end_time": "2023-11-06T13:47:50.979981",
     "exception": false,
     "start_time": "2023-11-06T13:47:50.951225",
     "status": "completed"
    },
    "tags": []
   },
   "outputs": [
    {
     "data": {
      "text/html": [
       "<div>\n",
       "<style scoped>\n",
       "    .dataframe tbody tr th:only-of-type {\n",
       "        vertical-align: middle;\n",
       "    }\n",
       "\n",
       "    .dataframe tbody tr th {\n",
       "        vertical-align: top;\n",
       "    }\n",
       "\n",
       "    .dataframe thead th {\n",
       "        text-align: right;\n",
       "    }\n",
       "</style>\n",
       "<table border=\"1\" class=\"dataframe\">\n",
       "  <thead>\n",
       "    <tr style=\"text-align: right;\">\n",
       "      <th></th>\n",
       "      <th>index</th>\n",
       "      <th>item_code</th>\n",
       "      <th>item_name</th>\n",
       "      <th>category_code</th>\n",
       "      <th>category_name</th>\n",
       "    </tr>\n",
       "  </thead>\n",
       "  <tbody>\n",
       "    <tr>\n",
       "      <th>0</th>\n",
       "      <td>0</td>\n",
       "      <td>102900005115168</td>\n",
       "      <td>Niushou Shengcai</td>\n",
       "      <td>1011010101</td>\n",
       "      <td>Flower/Leaf Vegetables</td>\n",
       "    </tr>\n",
       "    <tr>\n",
       "      <th>1</th>\n",
       "      <td>1</td>\n",
       "      <td>102900005115199</td>\n",
       "      <td>Sichuan Red Cedar</td>\n",
       "      <td>1011010101</td>\n",
       "      <td>Flower/Leaf Vegetables</td>\n",
       "    </tr>\n",
       "    <tr>\n",
       "      <th>2</th>\n",
       "      <td>2</td>\n",
       "      <td>102900005115625</td>\n",
       "      <td>Local Xiaomao Cabbage</td>\n",
       "      <td>1011010101</td>\n",
       "      <td>Flower/Leaf Vegetables</td>\n",
       "    </tr>\n",
       "    <tr>\n",
       "      <th>3</th>\n",
       "      <td>3</td>\n",
       "      <td>102900005115748</td>\n",
       "      <td>White Caitai</td>\n",
       "      <td>1011010101</td>\n",
       "      <td>Flower/Leaf Vegetables</td>\n",
       "    </tr>\n",
       "    <tr>\n",
       "      <th>4</th>\n",
       "      <td>4</td>\n",
       "      <td>102900005115762</td>\n",
       "      <td>Amaranth</td>\n",
       "      <td>1011010101</td>\n",
       "      <td>Flower/Leaf Vegetables</td>\n",
       "    </tr>\n",
       "  </tbody>\n",
       "</table>\n",
       "</div>"
      ],
      "text/plain": [
       "   index        item_code              item_name  category_code  \\\n",
       "0      0  102900005115168       Niushou Shengcai     1011010101   \n",
       "1      1  102900005115199      Sichuan Red Cedar     1011010101   \n",
       "2      2  102900005115625  Local Xiaomao Cabbage     1011010101   \n",
       "3      3  102900005115748           White Caitai     1011010101   \n",
       "4      4  102900005115762               Amaranth     1011010101   \n",
       "\n",
       "            category_name  \n",
       "0  Flower/Leaf Vegetables  \n",
       "1  Flower/Leaf Vegetables  \n",
       "2  Flower/Leaf Vegetables  \n",
       "3  Flower/Leaf Vegetables  \n",
       "4  Flower/Leaf Vegetables  "
      ]
     },
     "execution_count": 5,
     "metadata": {},
     "output_type": "execute_result"
    }
   ],
   "source": [
    "# Define query 1: Query the entire dataframe to inspect and gain an overview of the dataset structure.\n",
    "query = text(\n",
    "'''\n",
    "\n",
    "SELECT *\n",
    "FROM veg_cat\n",
    "\n",
    "'''\n",
    ")\n",
    "\n",
    "df_sql = pd.read_sql_query(query, con)\n",
    "\n",
    "# Display the First Few Rows of the 'veg_cat' Table\n",
    "df_sql.head()"
   ]
  },
  {
   "cell_type": "markdown",
   "id": "e84be7eb",
   "metadata": {
    "papermill": {
     "duration": 0.008909,
     "end_time": "2023-11-06T13:47:50.997629",
     "exception": false,
     "start_time": "2023-11-06T13:47:50.988720",
     "status": "completed"
    },
    "tags": []
   },
   "source": [
    "# Query 2: Total Number of Items\n",
    "- **Objective**: Count the total number of distinct items within the dataset.\n",
    "- **Rationale**: Understanding the variety of products and identifying potential gaps or outliers is crucial for comprehending the dataset.\n",
    "- **Significance**: This information is fundamental for decision-making, especially when assessing inventory management, stock replenishment, and understanding the scale of the product range.\n"
   ]
  },
  {
   "cell_type": "code",
   "execution_count": 6,
   "id": "37b32b7d",
   "metadata": {
    "execution": {
     "iopub.execute_input": "2023-11-06T13:47:51.017057Z",
     "iopub.status.busy": "2023-11-06T13:47:51.016503Z",
     "iopub.status.idle": "2023-11-06T13:47:51.027888Z",
     "shell.execute_reply": "2023-11-06T13:47:51.026821Z"
    },
    "papermill": {
     "duration": 0.023921,
     "end_time": "2023-11-06T13:47:51.030238",
     "exception": false,
     "start_time": "2023-11-06T13:47:51.006317",
     "status": "completed"
    },
    "tags": []
   },
   "outputs": [
    {
     "data": {
      "text/html": [
       "<div>\n",
       "<style scoped>\n",
       "    .dataframe tbody tr th:only-of-type {\n",
       "        vertical-align: middle;\n",
       "    }\n",
       "\n",
       "    .dataframe tbody tr th {\n",
       "        vertical-align: top;\n",
       "    }\n",
       "\n",
       "    .dataframe thead th {\n",
       "        text-align: right;\n",
       "    }\n",
       "</style>\n",
       "<table border=\"1\" class=\"dataframe\">\n",
       "  <thead>\n",
       "    <tr style=\"text-align: right;\">\n",
       "      <th></th>\n",
       "      <th>dist_item_code</th>\n",
       "    </tr>\n",
       "  </thead>\n",
       "  <tbody>\n",
       "    <tr>\n",
       "      <th>0</th>\n",
       "      <td>251</td>\n",
       "    </tr>\n",
       "  </tbody>\n",
       "</table>\n",
       "</div>"
      ],
      "text/plain": [
       "   dist_item_code\n",
       "0             251"
      ]
     },
     "execution_count": 6,
     "metadata": {},
     "output_type": "execute_result"
    }
   ],
   "source": [
    "# Define Query 2: Total Number of Items Total Number of Items\n",
    "query =text(\n",
    "'''\n",
    "\n",
    "select count(distinct[item_code]) as dist_item_code\n",
    "from veg_cat\n",
    "\n",
    "'''\n",
    "\n",
    ")\n",
    "\n",
    "df_sql = pd.read_sql_query(query,con)\n",
    "\n",
    "df_sql.head()"
   ]
  },
  {
   "cell_type": "markdown",
   "id": "7aae9321",
   "metadata": {
    "papermill": {
     "duration": 0.00849,
     "end_time": "2023-11-06T13:47:51.047559",
     "exception": false,
     "start_time": "2023-11-06T13:47:51.039069",
     "status": "completed"
    },
    "tags": []
   },
   "source": [
    "\n",
    "# Query 3: Total Number of Categories\n",
    "- **Objective**: Determine the total number of distinct categories within the dataset.\n",
    "- **Rationale**: Grasping the number of unique categories is essential for effective EDA. It assists in organizing and categorizing products, which is valuable for structuring inventory.\n",
    "- **Significance**: Knowing the total number of categories is necessary when creating marketing strategies, managing category-specific promotions, and analyzing sales trends by product groups."
   ]
  },
  {
   "cell_type": "code",
   "execution_count": 7,
   "id": "d7bf4e99",
   "metadata": {
    "execution": {
     "iopub.execute_input": "2023-11-06T13:47:51.067612Z",
     "iopub.status.busy": "2023-11-06T13:47:51.066786Z",
     "iopub.status.idle": "2023-11-06T13:47:51.078704Z",
     "shell.execute_reply": "2023-11-06T13:47:51.077623Z"
    },
    "papermill": {
     "duration": 0.024523,
     "end_time": "2023-11-06T13:47:51.081012",
     "exception": false,
     "start_time": "2023-11-06T13:47:51.056489",
     "status": "completed"
    },
    "tags": []
   },
   "outputs": [
    {
     "data": {
      "text/html": [
       "<div>\n",
       "<style scoped>\n",
       "    .dataframe tbody tr th:only-of-type {\n",
       "        vertical-align: middle;\n",
       "    }\n",
       "\n",
       "    .dataframe tbody tr th {\n",
       "        vertical-align: top;\n",
       "    }\n",
       "\n",
       "    .dataframe thead th {\n",
       "        text-align: right;\n",
       "    }\n",
       "</style>\n",
       "<table border=\"1\" class=\"dataframe\">\n",
       "  <thead>\n",
       "    <tr style=\"text-align: right;\">\n",
       "      <th></th>\n",
       "      <th>dist_cat_code</th>\n",
       "    </tr>\n",
       "  </thead>\n",
       "  <tbody>\n",
       "    <tr>\n",
       "      <th>0</th>\n",
       "      <td>6</td>\n",
       "    </tr>\n",
       "  </tbody>\n",
       "</table>\n",
       "</div>"
      ],
      "text/plain": [
       "   dist_cat_code\n",
       "0              6"
      ]
     },
     "execution_count": 7,
     "metadata": {},
     "output_type": "execute_result"
    }
   ],
   "source": [
    "# Define Query 3: Total Number of Categories\n",
    "query =text(\n",
    "'''\n",
    "\n",
    "select count(distinct[category_code]) as dist_cat_code\n",
    "from veg_cat\n",
    "\n",
    "'''\n",
    "\n",
    ")\n",
    "\n",
    "df_sql = pd.read_sql_query(query,con)\n",
    "\n",
    "df_sql.head()"
   ]
  },
  {
   "cell_type": "markdown",
   "id": "f544f4be",
   "metadata": {
    "papermill": {
     "duration": 0.008633,
     "end_time": "2023-11-06T13:47:51.099785",
     "exception": false,
     "start_time": "2023-11-06T13:47:51.091152",
     "status": "completed"
    },
    "tags": []
   },
   "source": [
    "# Query 4: List of Distinct Categories\n",
    "- **Objective**: Extract a list of unique category names.\n",
    "- **Rationale**: Providing an overview of the different product categories aids in understanding how items are grouped and labeled, which is crucial for meaningful analysis.\n",
    "- **Significance**: Having a list of distinct categories is essential for segmenting data for category-specific analysis, reporting, or product classification."
   ]
  },
  {
   "cell_type": "code",
   "execution_count": 8,
   "id": "198f3921",
   "metadata": {
    "execution": {
     "iopub.execute_input": "2023-11-06T13:47:51.119862Z",
     "iopub.status.busy": "2023-11-06T13:47:51.119416Z",
     "iopub.status.idle": "2023-11-06T13:47:51.132296Z",
     "shell.execute_reply": "2023-11-06T13:47:51.131165Z"
    },
    "papermill": {
     "duration": 0.025997,
     "end_time": "2023-11-06T13:47:51.134911",
     "exception": false,
     "start_time": "2023-11-06T13:47:51.108914",
     "status": "completed"
    },
    "tags": []
   },
   "outputs": [
    {
     "data": {
      "text/html": [
       "<div>\n",
       "<style scoped>\n",
       "    .dataframe tbody tr th:only-of-type {\n",
       "        vertical-align: middle;\n",
       "    }\n",
       "\n",
       "    .dataframe tbody tr th {\n",
       "        vertical-align: top;\n",
       "    }\n",
       "\n",
       "    .dataframe thead th {\n",
       "        text-align: right;\n",
       "    }\n",
       "</style>\n",
       "<table border=\"1\" class=\"dataframe\">\n",
       "  <thead>\n",
       "    <tr style=\"text-align: right;\">\n",
       "      <th></th>\n",
       "      <th>dist_cat</th>\n",
       "    </tr>\n",
       "  </thead>\n",
       "  <tbody>\n",
       "    <tr>\n",
       "      <th>0</th>\n",
       "      <td>Flower/Leaf Vegetables</td>\n",
       "    </tr>\n",
       "    <tr>\n",
       "      <th>1</th>\n",
       "      <td>Cabbage</td>\n",
       "    </tr>\n",
       "    <tr>\n",
       "      <th>2</th>\n",
       "      <td>Aquatic Tuberous Vegetables</td>\n",
       "    </tr>\n",
       "    <tr>\n",
       "      <th>3</th>\n",
       "      <td>Solanum</td>\n",
       "    </tr>\n",
       "    <tr>\n",
       "      <th>4</th>\n",
       "      <td>Capsicum</td>\n",
       "    </tr>\n",
       "  </tbody>\n",
       "</table>\n",
       "</div>"
      ],
      "text/plain": [
       "                      dist_cat\n",
       "0       Flower/Leaf Vegetables\n",
       "1                      Cabbage\n",
       "2  Aquatic Tuberous Vegetables\n",
       "3                      Solanum\n",
       "4                     Capsicum"
      ]
     },
     "execution_count": 8,
     "metadata": {},
     "output_type": "execute_result"
    }
   ],
   "source": [
    "# Define Query 4: List of Distinct Categories\n",
    "query =text(\n",
    "'''\n",
    "\n",
    "select distinct[category_name] as dist_cat\n",
    "from veg_cat\n",
    "\n",
    "'''\n",
    "\n",
    ")\n",
    "\n",
    "df_sql = pd.read_sql_query(query,con)\n",
    "\n",
    "df_sql.head()"
   ]
  },
  {
   "cell_type": "markdown",
   "id": "6c0640e6",
   "metadata": {
    "papermill": {
     "duration": 0.010139,
     "end_time": "2023-11-06T13:47:51.155555",
     "exception": false,
     "start_time": "2023-11-06T13:47:51.145416",
     "status": "completed"
    },
    "tags": []
   },
   "source": [
    "# Query 5: Total Items per Category\n",
    "- **Objective**: Calculate the number of items within each category.\n",
    "- **Rationale**: Understanding the distribution of items across categories is important in EDA. It provides insights into the popularity of categories and identifies those with a wide or narrow product range.\n",
    "- **Significance**: Knowing the total items per category is essential for decision-making when planning inventory allocation, category-specific marketing, and assessing category performance.\n",
    "\n",
    "# For visualizing query 5:\n",
    "- The bar chart provides a visual representation of the total number of items in each category, allowing you to easily identify categories with a higher or lower number of items. \n",
    "- The x-axis represents the category names, while the y-axis represents the number of items. The height of each bar corresponds to the number of items in the respective category.\n",
    "- I created a color palette using a list of colors. Each bar in the bar chart will be assigned a different color from this palette. \n",
    "- Additionally, I used the plt.text() function to annotate each bar with the corresponding number of items.\n"
   ]
  },
  {
   "cell_type": "code",
   "execution_count": 9,
   "id": "bf0121ed",
   "metadata": {
    "execution": {
     "iopub.execute_input": "2023-11-06T13:47:51.178231Z",
     "iopub.status.busy": "2023-11-06T13:47:51.177264Z",
     "iopub.status.idle": "2023-11-06T13:47:51.579785Z",
     "shell.execute_reply": "2023-11-06T13:47:51.578622Z"
    },
    "papermill": {
     "duration": 0.417101,
     "end_time": "2023-11-06T13:47:51.582733",
     "exception": false,
     "start_time": "2023-11-06T13:47:51.165632",
     "status": "completed"
    },
    "tags": []
   },
   "outputs": [
    {
     "data": {
      "image/png": "[encoded data removed]",
      "text/plain": [
       "<Figure size 1000x600 with 1 Axes>"
      ]
     },
     "metadata": {},
     "output_type": "display_data"
    }
   ],
   "source": [
    "# Define Query 5: Total Items per Category\n",
    "query =text(\n",
    "'''\n",
    "\n",
    "select [category_name], Count(*) as no_of_items\n",
    "from veg_cat\n",
    "Group by [category_name] \n",
    "\n",
    "'''\n",
    "\n",
    ")\n",
    "\n",
    "df_sql = pd.read_sql_query(query,con)\n",
    "\n",
    "df_sql.head()\n",
    "\n",
    "import matplotlib.pyplot as plt\n",
    "\n",
    "# Assuming you have already executed the query and stored the results in df_sql\n",
    "\n",
    "# Sort the dataframe by the number of items in descending order\n",
    "df_sql_sorted = df_sql.sort_values('no_of_items', ascending=False)\n",
    "\n",
    "# Create a color palette for the bars\n",
    "colors = ['blue', 'green', 'orange', 'red', 'purple', 'yellow']\n",
    "\n",
    "# Create the bar chart\n",
    "plt.figure(figsize=(10, 6))\n",
    "bars = plt.bar(df_sql_sorted['category_name'], df_sql_sorted['no_of_items'], color=colors)\n",
    "\n",
    "# Annotate each bar with the number of items\n",
    "for bar in bars:\n",
    "    height = bar.get_height()\n",
    "    plt.text(bar.get_x() + bar.get_width() / 2, height, height, ha='center', va='bottom')\n",
    "\n",
    "plt.xlabel('Category')\n",
    "plt.ylabel('Number of Items')\n",
    "plt.title('Total Items per Category')\n",
    "\n",
    "# Rotate the x-axis labels for better readability\n",
    "plt.xticks(rotation=90)\n",
    "\n",
    "# Display the plot\n",
    "plt.show()"
   ]
  },
  {
   "cell_type": "markdown",
   "id": "e87c4252",
   "metadata": {
    "papermill": {
     "duration": 0.00967,
     "end_time": "2023-11-06T13:47:51.602615",
     "exception": false,
     "start_time": "2023-11-06T13:47:51.592945",
     "status": "completed"
    },
    "tags": []
   },
   "source": [
    "# Query 6: Categories with Lowest Frequency of Items\n",
    "- **Objective**: Identify the category with the lowest frequency of items.\n",
    "- **Rationale**: Finding categories with low item frequency highlights potential areas of improvement. It may indicate underdeveloped categories that require attention or a different approach.\n",
    "- **Significance**: Identifying categories with the lowest frequency is necessary when allocating resources for category expansion, inventory replenishment, or marketing efforts in underrepresented segments.\n"
   ]
  },
  {
   "cell_type": "code",
   "execution_count": 10,
   "id": "4aef38b5",
   "metadata": {
    "execution": {
     "iopub.execute_input": "2023-11-06T13:47:51.625411Z",
     "iopub.status.busy": "2023-11-06T13:47:51.624311Z",
     "iopub.status.idle": "2023-11-06T13:47:51.638541Z",
     "shell.execute_reply": "2023-11-06T13:47:51.637482Z"
    },
    "papermill": {
     "duration": 0.028167,
     "end_time": "2023-11-06T13:47:51.641094",
     "exception": false,
     "start_time": "2023-11-06T13:47:51.612927",
     "status": "completed"
    },
    "tags": []
   },
   "outputs": [
    {
     "data": {
      "text/html": [
       "<div>\n",
       "<style scoped>\n",
       "    .dataframe tbody tr th:only-of-type {\n",
       "        vertical-align: middle;\n",
       "    }\n",
       "\n",
       "    .dataframe tbody tr th {\n",
       "        vertical-align: top;\n",
       "    }\n",
       "\n",
       "    .dataframe thead th {\n",
       "        text-align: right;\n",
       "    }\n",
       "</style>\n",
       "<table border=\"1\" class=\"dataframe\">\n",
       "  <thead>\n",
       "    <tr style=\"text-align: right;\">\n",
       "      <th></th>\n",
       "      <th>category_name</th>\n",
       "      <th>COUNT(*)</th>\n",
       "    </tr>\n",
       "  </thead>\n",
       "  <tbody>\n",
       "    <tr>\n",
       "      <th>0</th>\n",
       "      <td>Cabbage</td>\n",
       "      <td>5</td>\n",
       "    </tr>\n",
       "  </tbody>\n",
       "</table>\n",
       "</div>"
      ],
      "text/plain": [
       "  category_name  COUNT(*)\n",
       "0       Cabbage         5"
      ]
     },
     "execution_count": 10,
     "metadata": {},
     "output_type": "execute_result"
    }
   ],
   "source": [
    "# Define Query 6: Categories with Lowest Frequency of Items\n",
    "query =text(\n",
    "'''\n",
    "\n",
    "select [category_name], COUNT(*)\n",
    "from veg_cat\n",
    "Group by [category_name]\n",
    "Order by COUNT(*) \n",
    "Limit 1\n",
    "\n",
    "'''\n",
    "\n",
    ")\n",
    "\n",
    "df_sql = pd.read_sql_query(query,con)\n",
    "\n",
    "df_sql.head()"
   ]
  },
  {
   "cell_type": "markdown",
   "id": "b30862c5",
   "metadata": {
    "papermill": {
     "duration": 0.010062,
     "end_time": "2023-11-06T13:47:51.661885",
     "exception": false,
     "start_time": "2023-11-06T13:47:51.651823",
     "status": "completed"
    },
    "tags": []
   },
   "source": [
    "# Query 7: Categories with Highest Frequency of Items\n",
    "- **Objective**: Determine the category with the highest frequency of items.\n",
    "- **Rationale**: Pinpointing categories with the highest item frequency helps identify strong product segments. This information can be used to prioritize marketing or sales strategies.\n",
    "- **Significance**: Identifying categories with the highest frequency is necessary for decision-making when allocating marketing resources, optimizing product listings, and focusing on areas of business strength."
   ]
  },
  {
   "cell_type": "code",
   "execution_count": 11,
   "id": "3cd78c5b",
   "metadata": {
    "execution": {
     "iopub.execute_input": "2023-11-06T13:47:51.684555Z",
     "iopub.status.busy": "2023-11-06T13:47:51.684140Z",
     "iopub.status.idle": "2023-11-06T13:47:51.696326Z",
     "shell.execute_reply": "2023-11-06T13:47:51.695226Z"
    },
    "papermill": {
     "duration": 0.026272,
     "end_time": "2023-11-06T13:47:51.698617",
     "exception": false,
     "start_time": "2023-11-06T13:47:51.672345",
     "status": "completed"
    },
    "tags": []
   },
   "outputs": [
    {
     "data": {
      "text/html": [
       "<div>\n",
       "<style scoped>\n",
       "    .dataframe tbody tr th:only-of-type {\n",
       "        vertical-align: middle;\n",
       "    }\n",
       "\n",
       "    .dataframe tbody tr th {\n",
       "        vertical-align: top;\n",
       "    }\n",
       "\n",
       "    .dataframe thead th {\n",
       "        text-align: right;\n",
       "    }\n",
       "</style>\n",
       "<table border=\"1\" class=\"dataframe\">\n",
       "  <thead>\n",
       "    <tr style=\"text-align: right;\">\n",
       "      <th></th>\n",
       "      <th>category_name</th>\n",
       "      <th>COUNT(*)</th>\n",
       "    </tr>\n",
       "  </thead>\n",
       "  <tbody>\n",
       "    <tr>\n",
       "      <th>0</th>\n",
       "      <td>Flower/Leaf Vegetables</td>\n",
       "      <td>100</td>\n",
       "    </tr>\n",
       "  </tbody>\n",
       "</table>\n",
       "</div>"
      ],
      "text/plain": [
       "            category_name  COUNT(*)\n",
       "0  Flower/Leaf Vegetables       100"
      ]
     },
     "execution_count": 11,
     "metadata": {},
     "output_type": "execute_result"
    }
   ],
   "source": [
    "# Define Query 7: to get categories with Highest Frequency of Items:\n",
    "query =text(\n",
    "'''\n",
    "\n",
    "select [category_name], COUNT(*)\n",
    "from veg_cat\n",
    "Group by [category_name]\n",
    "Order by COUNT(*) DESC\n",
    "Limit 1\n",
    "\n",
    "'''\n",
    "\n",
    ")\n",
    "\n",
    "df_sql = pd.read_sql_query(query,con)\n",
    "\n",
    "df_sql.head()"
   ]
  },
  {
   "cell_type": "markdown",
   "id": "ae8ac4ea",
   "metadata": {
    "papermill": {
     "duration": 0.010244,
     "end_time": "2023-11-06T13:47:51.719382",
     "exception": false,
     "start_time": "2023-11-06T13:47:51.709138",
     "status": "completed"
    },
    "tags": []
   },
   "source": [
    "# Strategic Insights from Section 2:\n",
    "## Exploring the Category Dataset - Unveiling Insights through EDA Queries\n",
    "In order to create a strategic and iterative approach for Exploratory Data Analysis (EDA) on the \"Category Dataset,\" we will consolidate the queries executed in this project into key activities that form the process. These activities help understand the dataset's structure and make informed decisions regarding inventory management, marketing strategies, and category-specific analyses.\n",
    "\n",
    "## Activity 1: Data Overview and Statistics\n",
    "\n",
    "- **Description:** This activity involves gaining an initial understanding of the dataset's characteristics, such as the total number of items and categories.\n",
    "- **Rationale:** Gaining an overview of the dataset is a foundational step in any data analysis process. \n",
    "- **Necessity:** Essential for assessing inventory management and product categorization.\n",
    "- **Queries in this project:** Queries like \"Total Number of Items\" (Query 1) and \"Total Number of Categories\" (Query 2) exemplify this activity.\n",
    "\n",
    "## Activity 2: Categorization and Classification\n",
    "\n",
    "- **Description:** This activity focuses on extracting and organizing category-related information.\n",
    "- **Rationale:** Helps in structuring data for category-specific analysis, marketing strategies, and inventory management.\n",
    "- **Necessity:** Fundamental for analyzing sales trends, organizing promotions, and assessing category performance.\n",
    "- **Queries in this project:** Queries like \"List of Distinct Categories\" (Query 3) and \"Total Items per Category\" (Query 4) exemplify this activity.\n",
    "\n",
    "## Activity 3: Identify Category Insights\n",
    "\n",
    "- **Description:** In this activity, you explore categories with both low and high item frequencies.\n",
    "- **Rationale:** Identifies categories that may require attention or those with strong product segments.\n",
    "- **Necessity:** Necessary for optimizing marketing, focusing on business strengths, and allocating resources effectively.\n",
    "- **Queries in this project:** Queries like \"Categories with Lowest Frequency of Items\" (Query 5) and \"Categories with Highest Frequency of Items\" (Query 6) exemplify this activity.\n",
    "\n",
    "By following this strategic approach, you can systematically explore the \"Category Dataset\" and make data-informed decisions related to inventory management, marketing strategies, and category-specific analyses."
   ]
  },
  {
   "cell_type": "markdown",
   "id": "87cd3142",
   "metadata": {
    "papermill": {
     "duration": 0.010122,
     "end_time": "2023-11-06T13:47:51.739971",
     "exception": false,
     "start_time": "2023-11-06T13:47:51.729849",
     "status": "completed"
    },
    "tags": []
   },
   "source": [
    "# Section 2 Next Steps:\n",
    "## Exploring the Category Dataset - Unveiling Insights through EDA Queries\n",
    "Building on the valuable insights gained from our EDA queries in Section 2, I warmly invite you to join me in the next phase of our enlightening journey. Together, we can take our project to new heights, expand its impact, and make a lasting contribution to the field of retail data analytics. Here are the suggested next steps, encompassing both traditional data analysis and advanced machine learning and deep learning approaches:\n",
    "\n",
    "### 1. Further Query Development:\n",
    "Let's continue our journey of discovery by developing more EDA queries for the \"Category Dataset.\" We'll explore additional facets of the data, such as seasonality, sales trends over time, and customer behavior within specific categories. These queries will unlock deeper insights into our dataset.\n",
    "\n",
    "### 2. PowerBI Dashboard Development:\n",
    "In this step, we'll create interactive PowerBI dashboards that bring our insights to life. These dashboards will offer a user-friendly interface for stakeholders to explore the data, make informed decisions, and track key performance indicators related to inventory management and marketing strategies.\n",
    "\n",
    "### 3. Machine Learning for Predictive Analytics:\n",
    "Imagine the potential of implementing machine learning models to predict inventory demand. By analyzing historical data and considering factors like seasonality, customer behavior, and category-specific trends, we can forecast future inventory needs with precision. This translates to optimized stock levels and reduced carrying costs.\n",
    "\n",
    "### 4. Recommendation Systems:\n",
    "Our journey takes us to the development of recommendation systems using collaborative filtering or content-based filtering. These systems will suggest products to customers based on their past purchases and preferences, creating a seamless shopping experience and driving sales.\n",
    "\n",
    "### 5. Deep Learning for Image Analysis:\n",
    "Should our dataset contain images of products, we'll embark on a fascinating exploration of deep learning techniques, such as convolutional neural networks (CNNs), to analyze product images. This opens doors to automated product categorization, quality control, and image-based recommendation systems.\n",
    "\n",
    "### 6. Collaborative Projects and Data Sharing:\n",
    "Collaboration is at the heart of our journey. We'll collaborate with fellow data analysts, data scientists, and retail businesses to share knowledge and insights. Sharing our project's findings, methodologies, and code contributes to a wider community of practice, fostering collective learning and growth.\n",
    "\n",
    "### 7. Education and Outreach:\n",
    "Our journey leads us to educate individuals, particularly those with limited programming skills. We'll conduct workshops, webinars, and seminars to share the principles of data analysis and the practical use of our project's findings. Together, we'll inspire more people to explore the world of data analytics and data-driven decision-making.\n",
    "\n",
    "### 8. Feedback and Continuous Improvement:\n",
    "We'll actively seek feedback from users and stakeholders to enhance our project. Suggestions and insights will guide improvements in our EDA queries, machine learning models, and data visualization tools.\n",
    "\n",
    "### 9. Documentation and Knowledge Sharing:\n",
    "Comprehensive documentation will be at the core of our journey. We'll maintain thorough records of our project's development and findings. Our insights, experiences, and best practices will be shared through articles, blogs, and open-source contributions, benefiting the wider data science community.\n",
    "\n",
    "### 10. Customer Segmentation: \n",
    "We'll utilize machine learning techniques to segment customers based on their purchase behavior, preferences, and interactions with different product categories. This segmentation will empower personalized marketing strategies, product recommendations, and customer engagement efforts. However, it's important to note that additional information on customers in the dataset will be needed to realize this step fully.\n",
    "\n",
    "### 11. Sentiment Analysis:\n",
    "The next phase of our journey involves implementing sentiment analysis on customer reviews and feedback related to different categories. This analysis will provide insights into customer satisfaction, identify areas for improvement, and guide the crafting of marketing messages and product descriptions that resonate with our customers.\n",
    "\n",
    "Together, we'll continue to advance our mission of simplifying data science and making data-driven decision-making accessible to a diverse audience. Our project's impact in the retail business domain will grow, and this journey promises to be both enriching and impactful. \n",
    "\n",
    "I hope you join me on our next exploration of possibilities!"
   ]
  },
  {
   "cell_type": "markdown",
   "id": "626af73e",
   "metadata": {
    "papermill": {
     "duration": 0.010034,
     "end_time": "2023-11-06T13:47:51.760488",
     "exception": false,
     "start_time": "2023-11-06T13:47:51.750454",
     "status": "completed"
    },
    "tags": []
   },
   "source": [
    "# Section 2 Conclusion: \n",
    "\n",
    "## Exploring the Category Dataset - Unveiling Insights through EDA Queries\n",
    "\n",
    "In the journey through Section 2, \"Exploring the Category Dataset - Unveiling Insights through EDA Queries,\" we embarked on a data-driven adventure to unlock the secrets held within the \"Category Dataset.\" This section was designed to be a strategic guide for understanding the dataset's structure, with a focus on enabling data-informed decisions in the realms of inventory management, marketing strategies, and category-specific analyses.\n",
    "\n",
    "Our exploration was guided by the principles of Exploratory Data Analysis (EDA), a process that transcends mere number-crunching, diving into the realm of stories and insights hidden within the data. We recognized that the \"Category Dataset\" is not a mere collection of rows and columns; it's a treasure trove of trends, patterns, and relationships that can shape our strategic decisions.\n",
    "\n",
    "The power of queries became evident as we used them as investigative tools, each query acting as a magnifying glass to focus on specific aspects of the dataset. These queries served as gateways to better comprehend the dataset's structure and composition.\n",
    "\n",
    "We delved into the significance of our findings for inventory management, marketing strategies, and category-specific analyses. Through EDA, we unveiled insights that would aid in optimizing stock levels, tailoring marketing campaigns, and offering personalized experiences to our customers based on their preferences and buying behavior.\n",
    "\n",
    "As we conclude this section, it's important to emphasize that our exploration of the \"Category Dataset\" is just the beginning. The journey into data science is a continuous evolution. The insights gained from these queries are not static numbers; they are dynamic building blocks for informed decision-making. \n",
    "\n",
    "The next steps are promising, as we move on to further query development, advanced machine learning, and deep learning applications. We will develop interactive PowerBI dashboards, collaborate with others, educate and inspire individuals from diverse backgrounds, and continue to improve and document our journey.\n",
    "\n",
    "Our project's goal remains unchanged: to bridge the knowledge gap for individuals with limited programming skills, offering step-by-step explanations and strategic insights into the realm of Exploratory Data Analysis. \n",
    "\n",
    "Thank you for joining us on this data-driven adventure. We hope that this section has provided you with valuable insights and inspiration for your own journey in the world of data analytics and international development. Stay tuned for the exciting chapters ahead, as we continue to simplify data science and make it more accessible to all.\n",
    "\n",
    "**Reagan R. Ocan**  \n",
    "**Email:** ocanronald@gmail.com  \n",
    "**LinkedIn:** https://linkedin.com/in/reagan-r-ocan/\n",
    "\n",
    "Our data-driven journey continues in the next section, where we explore the [\"Loss Rate Percentage\"](https://www.kaggle.com/code/reaganoc/retail-business-eda-using-sql-loss-rate-data) dataset.\n",
    "\n",
    "## Collaboration and Engagement: \n",
    "If you're inspired by this journey and have insights to share, we invite you to fork this notebook and contribute your perspectives. Engage with us through the comments section to provide feedback, share opinions, and offer valuable advice. Together, we can enhance this notebook and expand its horizons, demystifying data science and making it more accessible to all.\n",
    "\n",
    "## Let's Work Together: \n",
    "Beyond contributing to this notebook, we're open to collaborating on data projects. If you have a project in mind or need data analysis support, don't hesitate to reach out. Whether it's a collaborative effort or data-driven solutions for your business, we're here to assist. Contact us through the provided email or LinkedIn for inquiries and discussions."
   ]
  }
 ],
 "metadata": {
  "kernelspec": {
   "display_name": "Python 3",
   "language": "python",
   "name": "python3"
  },
  "language_info": {
   "codemirror_mode": {
    "name": "ipython",
    "version": 3
   },
   "file_extension": ".py",
   "mimetype": "text/x-python",
   "name": "python",
   "nbconvert_exporter": "python",
   "pygments_lexer": "ipython3",
   "version": "3.10.12"
  },
  "papermill": {
   "default_parameters": {},
   "duration": 10.693433,
   "end_time": "2023-11-06T13:47:52.492674",
   "environment_variables": {},
   "exception": null,
   "input_path": "__notebook__.ipynb",
   "output_path": "__notebook__.ipynb",
   "parameters": {},
   "start_time": "2023-11-06T13:47:41.799241",
   "version": "2.4.0"
  }
 },
 "nbformat": 4,
 "nbformat_minor": 5
}
